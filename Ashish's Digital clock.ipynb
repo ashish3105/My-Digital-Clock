{
 "cells": [
  {
   "cell_type": "code",
   "execution_count": null,
   "id": "93a0673e",
   "metadata": {},
   "outputs": [],
   "source": [
    "from tkinter import *\n",
    "from tkinter.ttk import *\n",
    "\n",
    "from time import strftime\n",
    "\n",
    "root = Tk()\n",
    "root.title('My Digital Clock')\n",
    "\n",
    "def time():\n",
    "    string = strftime('%I:%M:%S %p')\n",
    "    lbl.config(text = string)\n",
    "    lbl.after(1000, time)\n",
    "\n",
    "\n",
    "lbl = Label(root, font = ('calibri', 45, 'bold'),\n",
    "background = 'purple',foreground = 'white')\n",
    "\n",
    "lbl.pack(anchor = 'center')\n",
    "time()\n",
    "\n",
    "mainloop()\n"
   ]
  },
  {
   "cell_type": "code",
   "execution_count": null,
   "id": "bbc92dcf",
   "metadata": {},
   "outputs": [],
   "source": []
  }
 ],
 "metadata": {
  "kernelspec": {
   "display_name": "Python 3 (ipykernel)",
   "language": "python",
   "name": "python3"
  }
 },
 "nbformat": 4,
 "nbformat_minor": 5
}
